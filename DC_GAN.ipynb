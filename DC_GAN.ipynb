{
  "nbformat": 4,
  "nbformat_minor": 0,
  "metadata": {
    "kernelspec": {
      "display_name": "Python 3",
      "language": "python",
      "name": "python3"
    },
    "language_info": {
      "codemirror_mode": {
        "name": "ipython",
        "version": 3
      },
      "file_extension": ".py",
      "mimetype": "text/x-python",
      "name": "python",
      "nbconvert_exporter": "python",
      "pygments_lexer": "ipython3",
      "version": "3.7.7"
    },
    "colab": {
      "name": "DC-GAN.ipynb",
      "provenance": []
    },
    "accelerator": "GPU",
    "widgets": {
      "application/vnd.jupyter.widget-state+json": {
        "12bc915b47ad45d599f3c6e416b62427": {
          "model_module": "@jupyter-widgets/controls",
          "model_name": "HBoxModel",
          "state": {
            "_view_name": "HBoxView",
            "_dom_classes": [],
            "_model_name": "HBoxModel",
            "_view_module": "@jupyter-widgets/controls",
            "_model_module_version": "1.5.0",
            "_view_count": null,
            "_view_module_version": "1.5.0",
            "box_style": "",
            "layout": "IPY_MODEL_0e432e980bd24dfb922df37c63426d41",
            "_model_module": "@jupyter-widgets/controls",
            "children": [
              "IPY_MODEL_7bbc3a44dc4049d382c6fcc24d0883f9",
              "IPY_MODEL_daf7447e59f8487eab9423443d3a55d6"
            ]
          }
        },
        "c8f96b32026a4ef5a7747c91ba27d9e0": {
          "model_module": "@jupyter-widgets/controls",
          "model_name": "HBoxModel",
          "state": {
            "_view_name": "HBoxView",
            "_dom_classes": [],
            "_model_name": "HBoxModel",
            "_view_module": "@jupyter-widgets/controls",
            "_model_module_version": "1.5.0",
            "_view_count": null,
            "_view_module_version": "1.5.0",
            "box_style": "",
            "layout": "IPY_MODEL_a493ea8159a8473c92352f2d2a447b52",
            "_model_module": "@jupyter-widgets/controls",
            "children": [
              "IPY_MODEL_44c289c2ebc440d8af6fe8df03eafb5d",
              "IPY_MODEL_241b43053af2421eb81b89267d3b819a"
            ]
          }
        },
        "d8ba28d2bbf844cc900bcea0dd8ff03a": {
          "model_module": "@jupyter-widgets/controls",
          "model_name": "HBoxModel",
          "state": {
            "_view_name": "HBoxView",
            "_dom_classes": [],
            "_model_name": "HBoxModel",
            "_view_module": "@jupyter-widgets/controls",
            "_model_module_version": "1.5.0",
            "_view_count": null,
            "_view_module_version": "1.5.0",
            "box_style": "",
            "layout": "IPY_MODEL_2266f866208645eb862f346bd2ca0994",
            "_model_module": "@jupyter-widgets/controls",
            "children": [
              "IPY_MODEL_17f80db43eda4db8b32a635619efd844",
              "IPY_MODEL_c441ced9981c45b49a833ee56cfd5416"
            ]
          }
        },
        "d810860ed7cf4314a5e04193809cb476": {
          "model_module": "@jupyter-widgets/controls",
          "model_name": "HBoxModel",
          "state": {
            "_view_name": "HBoxView",
            "_dom_classes": [],
            "_model_name": "HBoxModel",
            "_view_module": "@jupyter-widgets/controls",
            "_model_module_version": "1.5.0",
            "_view_count": null,
            "_view_module_version": "1.5.0",
            "box_style": "",
            "layout": "IPY_MODEL_f7f667ffb4aa47ac8113833a85c141d7",
            "_model_module": "@jupyter-widgets/controls",
            "children": [
              "IPY_MODEL_d23e930a275f4c67b9c93421347dd37c",
              "IPY_MODEL_2085457d24ba468ea33c13598d2be8d0"
            ]
          }
        }
      }
    }
  },
  "cells": [
    {
      "cell_type": "code",
      "metadata": {
        "id": "zaJIeowubkKs",
        "colab_type": "code",
        "colab": {}
      },
      "source": [
        "import torch\n",
        "import torch.nn as nn\n",
        "import torch.nn.functional as F\n",
        "from torch.nn import init\n",
        "import torchvision\n",
        "import torchvision.transforms as T\n",
        "import torch.optim as optim\n",
        "from torch.utils.data import DataLoader\n",
        "from torch.utils.data import sampler\n",
        "import torchvision.datasets as dset\n",
        "\n",
        "import numpy as np\n",
        "\n",
        "import matplotlib.pyplot as plt\n",
        "import matplotlib.gridspec as gridspec\n",
        "\n",
        "%matplotlib inline\n",
        "plt.rcParams['figure.figsize'] = (10.0, 8.0) # set default size of plots\n",
        "plt.rcParams['image.interpolation'] = 'nearest'\n",
        "plt.rcParams['image.cmap'] = 'gray'"
      ],
      "execution_count": 1,
      "outputs": []
    },
    {
      "cell_type": "code",
      "metadata": {
        "id": "RjJ476BpbkK5",
        "colab_type": "code",
        "colab": {}
      },
      "source": [
        "def count_para(model):\n",
        "    total_para = 0\n",
        "    for para in model.parameters():\n",
        "        total_para += np.prod(para.size())\n",
        "    return total_para\n",
        "\n",
        "def show_imgs(imgs):\n",
        "    sqrtn = int(np.ceil(np.sqrt(imgs.shape[0])))\n",
        "    \n",
        "    grid = torchvision.utils.make_grid(imgs , nrow=sqrtn , padding=2)\n",
        "    fig = plt.figure(figsize=(sqrtn, sqrtn))\n",
        "\n",
        "    ax = plt.subplot(1,1,1)\n",
        "    ax.set_yticklabels([])\n",
        "    ax.set_xticklabels([])\n",
        "    ax.imshow(np.transpose(grid , (1,2,0)))\n",
        "    plt.show()\n",
        "    \n",
        "def init_weights(m):\n",
        "    if isinstance(m , nn.Linear) or isinstance(m , nn.ConvTranspose2d) or isinstance(m , nn.Conv2d):\n",
        "        init.xavier_uniform_(m.weight.data)"
      ],
      "execution_count": 2,
      "outputs": []
    },
    {
      "cell_type": "code",
      "metadata": {
        "id": "KoYIqtH0bkLF",
        "colab_type": "code",
        "colab": {}
      },
      "source": [
        "class ChunkSampler(sampler.Sampler):\n",
        "    def __init__(self , n , off=0):\n",
        "        self.n = n\n",
        "        self.off = off\n",
        "        \n",
        "    def __iter__(self):\n",
        "        return iter(range(self.off , self.n + self.off))\n",
        "    \n",
        "    def __len__(self):\n",
        "        return self.n"
      ],
      "execution_count": 3,
      "outputs": []
    },
    {
      "cell_type": "code",
      "metadata": {
        "id": "ORVOvABwbkLP",
        "colab_type": "code",
        "colab": {
          "base_uri": "https://localhost:8080/",
          "height": 237,
          "referenced_widgets": [
            "12bc915b47ad45d599f3c6e416b62427",
            "c8f96b32026a4ef5a7747c91ba27d9e0",
            "d8ba28d2bbf844cc900bcea0dd8ff03a",
            "d810860ed7cf4314a5e04193809cb476"
          ]
        },
        "outputId": "c5af9d96-b417-4138-df36-0e0932d2ecb7"
      },
      "source": [
        "NUM_TRAIN = 50000\n",
        "NUM_VAL = 5000\n",
        "\n",
        "NOISE_DIM = 96\n",
        "BATCH_SIZE = 128\n",
        "\n",
        "mnist_train = dset.MNIST('./mnist/', train=True, download=True,\n",
        "                           transform=T.ToTensor())\n",
        "\n",
        "mnist_val = dset.MNIST('./mnist/', train=True, download=True,\n",
        "                           transform=T.ToTensor())\n",
        "\n",
        "loader_train = DataLoader(mnist_train, batch_size=BATCH_SIZE,\n",
        "                          sampler=ChunkSampler(NUM_TRAIN, 0))\n",
        "\n",
        "loader_val = DataLoader(mnist_val, batch_size=BATCH_SIZE,\n",
        "                        sampler=ChunkSampler(NUM_VAL, NUM_TRAIN))"
      ],
      "execution_count": 4,
      "outputs": [
        {
          "output_type": "stream",
          "text": [
            "Downloading http://yann.lecun.com/exdb/mnist/train-images-idx3-ubyte.gz to ./mnist/MNIST/raw/train-images-idx3-ubyte.gz\n"
          ],
          "name": "stdout"
        },
        {
          "output_type": "display_data",
          "data": {
            "application/vnd.jupyter.widget-view+json": {
              "model_id": "12bc915b47ad45d599f3c6e416b62427",
              "version_minor": 0,
              "version_major": 2
            },
            "text/plain": [
              "HBox(children=(FloatProgress(value=1.0, bar_style='info', max=1.0), HTML(value='')))"
            ]
          },
          "metadata": {
            "tags": []
          }
        },
        {
          "output_type": "stream",
          "text": [
            "Extracting ./mnist/MNIST/raw/train-images-idx3-ubyte.gz to ./mnist/MNIST/raw\n",
            "Downloading http://yann.lecun.com/exdb/mnist/train-labels-idx1-ubyte.gz to ./mnist/MNIST/raw/train-labels-idx1-ubyte.gz\n"
          ],
          "name": "stdout"
        },
        {
          "output_type": "display_data",
          "data": {
            "application/vnd.jupyter.widget-view+json": {
              "model_id": "c8f96b32026a4ef5a7747c91ba27d9e0",
              "version_minor": 0,
              "version_major": 2
            },
            "text/plain": [
              "HBox(children=(FloatProgress(value=1.0, bar_style='info', max=1.0), HTML(value='')))"
            ]
          },
          "metadata": {
            "tags": []
          }
        },
        {
          "output_type": "stream",
          "text": [
            "Extracting ./mnist/MNIST/raw/train-labels-idx1-ubyte.gz to ./mnist/MNIST/raw\n",
            "Downloading http://yann.lecun.com/exdb/mnist/t10k-images-idx3-ubyte.gz to ./mnist/MNIST/raw/t10k-images-idx3-ubyte.gz\n"
          ],
          "name": "stdout"
        },
        {
          "output_type": "display_data",
          "data": {
            "application/vnd.jupyter.widget-view+json": {
              "model_id": "d8ba28d2bbf844cc900bcea0dd8ff03a",
              "version_minor": 0,
              "version_major": 2
            },
            "text/plain": [
              "HBox(children=(FloatProgress(value=1.0, bar_style='info', max=1.0), HTML(value='')))"
            ]
          },
          "metadata": {
            "tags": []
          }
        },
        {
          "output_type": "stream",
          "text": [
            "Extracting ./mnist/MNIST/raw/t10k-images-idx3-ubyte.gz to ./mnist/MNIST/raw\n",
            "Downloading http://yann.lecun.com/exdb/mnist/t10k-labels-idx1-ubyte.gz to ./mnist/MNIST/raw/t10k-labels-idx1-ubyte.gz\n"
          ],
          "name": "stdout"
        },
        {
          "output_type": "display_data",
          "data": {
            "application/vnd.jupyter.widget-view+json": {
              "model_id": "d810860ed7cf4314a5e04193809cb476",
              "version_minor": 0,
              "version_major": 2
            },
            "text/plain": [
              "HBox(children=(FloatProgress(value=1.0, bar_style='info', max=1.0), HTML(value='')))"
            ]
          },
          "metadata": {
            "tags": []
          }
        },
        {
          "output_type": "stream",
          "text": [
            "Extracting ./mnist/MNIST/raw/t10k-labels-idx1-ubyte.gz to ./mnist/MNIST/raw\n",
            "Processing...\n",
            "Done!\n"
          ],
          "name": "stdout"
        },
        {
          "output_type": "stream",
          "text": [
            "/pytorch/torch/csrc/utils/tensor_numpy.cpp:141: UserWarning: The given NumPy array is not writeable, and PyTorch does not support non-writeable tensors. This means you can write to the underlying (supposedly non-writeable) NumPy array using the tensor. You may want to copy the array to protect its data or make it writeable before converting it to a tensor. This type of warning will be suppressed for the rest of this program.\n"
          ],
          "name": "stderr"
        }
      ]
    },
    {
      "cell_type": "code",
      "metadata": {
        "id": "9HgUC4ggbkLW",
        "colab_type": "code",
        "colab": {
          "base_uri": "https://localhost:8080/",
          "height": 325
        },
        "outputId": "79704ee8-2b89-489c-a092-3bbaee042be1"
      },
      "source": [
        "show_imgs(next(iter(loader_train))[0][0:16])"
      ],
      "execution_count": 5,
      "outputs": [
        {
          "output_type": "stream",
          "text": [
            "\n",
            "\n"
          ],
          "name": "stdout"
        },
        {
          "output_type": "display_data",
          "data": {
            "image/png": "[encoded data removed]",
            "text/plain": [
              "<Figure size 288x288 with 1 Axes>"
            ]
          },
          "metadata": {
            "tags": [],
            "needs_background": "light"
          }
        },
        {
          "output_type": "stream",
          "text": [
            "\n",
            "\n"
          ],
          "name": "stdout"
        }
      ]
    },
    {
      "cell_type": "code",
      "metadata": {
        "id": "p1E3Wo0bbkLg",
        "colab_type": "code",
        "colab": {}
      },
      "source": [
        "def sampler_noise(batch_size , dim):\n",
        "    return torch.FloatTensor(batch_size , dim).uniform_(-1,1)"
      ],
      "execution_count": 6,
      "outputs": []
    },
    {
      "cell_type": "code",
      "metadata": {
        "id": "cRv6rZuRbkLp",
        "colab_type": "code",
        "colab": {}
      },
      "source": [
        "dtype = torch.cuda.FloatTensor\n",
        "device = torch.device(\"cuda:0\" if torch.cuda.is_available() else \"cpu\")"
      ],
      "execution_count": 7,
      "outputs": []
    },
    {
      "cell_type": "code",
      "metadata": {
        "id": "tQSp17ptbkLw",
        "colab_type": "code",
        "colab": {}
      },
      "source": [
        "def bce_loss(input, target):\n",
        "    \"\"\"\n",
        "    Numerically stable version of the binary cross-entropy loss function.\n",
        "\n",
        "    As per https://github.com/pytorch/pytorch/issues/751\n",
        "    See the TensorFlow docs for a derivation of this formula:\n",
        "    https://www.tensorflow.org/api_docs/python/tf/nn/sigmoid_cross_entropy_with_logits\n",
        "\n",
        "    Inputs:\n",
        "    - input: PyTorch Tensor of shape (N, ) giving scores.\n",
        "    - target: PyTorch Tensor of shape (N,) containing 0 and 1 giving targets.\n",
        "\n",
        "    Returns:\n",
        "    - A PyTorch Tensor containing the mean BCE loss over the minibatch of input data.\n",
        "    \"\"\"\n",
        "    neg_abs = - input.abs()\n",
        "    loss = input.clamp(min=0) - input * target + (1 + neg_abs.exp()).log()\n",
        "    return loss.mean()"
      ],
      "execution_count": 8,
      "outputs": []
    },
    {
      "cell_type": "code",
      "metadata": {
        "id": "9wreESM3bkL2",
        "colab_type": "code",
        "colab": {}
      },
      "source": [
        "def discriminator_loss(logits_real , logits_fake):\n",
        "    N = logits_real.size(0)\n",
        "    loss = (bce_loss(logits_real , torch.ones(N).type(dtype)) + bce_loss(logits_fake , torch.zeros(N).type(dtype)))\n",
        "    return loss.mean()\n",
        "\n",
        "def generator_loss(logits_fake):\n",
        "    N = logits_fake.size(0)\n",
        "    loss = bce_loss(logits_fake , torch.ones(N).type(dtype))\n",
        "    return loss.mean()"
      ],
      "execution_count": 9,
      "outputs": []
    },
    {
      "cell_type": "code",
      "metadata": {
        "id": "qWiLIblabkL8",
        "colab_type": "code",
        "colab": {}
      },
      "source": [
        "class Discriminator(nn.Module):\n",
        "    def __init__(self):\n",
        "        super().__init__()\n",
        "        self.conv1 = nn.Conv2d(1 , 32 , kernel_size=5 , stride=1)\n",
        "        self.conv2 = nn.Conv2d(32 , 64 , kernel_size=5 , stride=1)\n",
        "        self.fc1 = nn.Linear(1024 , 1024)\n",
        "        self.fc2 = nn.Linear(1024 , 1)\n",
        "        \n",
        "    def forward(self , x):\n",
        "        x = x.view(BATCH_SIZE , 1 , 28 , 28)\n",
        "        x = F.leaky_relu(self.conv1(x))\n",
        "        x = F.max_pool2d(x , kernel_size=2 , stride=2)\n",
        "        x = F.leaky_relu(self.conv2(x))\n",
        "        x = F.max_pool2d(x , kernel_size=2 , stride=2)\n",
        "        x = x.view(BATCH_SIZE , -1)\n",
        "        x = F.leaky_relu(self.fc1(x))\n",
        "        return self.fc2(x)\n",
        "    \n",
        "class Generator(nn.Module):\n",
        "    def __init__(self):\n",
        "        super().__init__()\n",
        "        self.fc1 = nn.Linear(NOISE_DIM , 1024)\n",
        "        self.bn1 = nn.BatchNorm1d(1024)\n",
        "        self.fc2 = nn.Linear(1024 , 6272)\n",
        "        self.bn2 = nn.BatchNorm1d(6272)\n",
        "        self.tconv1 = nn.ConvTranspose2d(128 , 64 , kernel_size=4 , stride=2 , padding=1)\n",
        "        self.bn3 = nn.BatchNorm2d(64)\n",
        "        self.tconv2 = nn.ConvTranspose2d(64 , 1 , kernel_size=4 , stride=2 , padding=1)\n",
        "        self.tanh = nn.Tanh()\n",
        "        \n",
        "    def forward(self , x):\n",
        "        x = F.relu(self.fc1(x))\n",
        "        x = self.bn1(x)\n",
        "        x = F.relu(self.fc2(x))\n",
        "        x = self.bn2(x)\n",
        "        x = x.view(BATCH_SIZE , 128 , 7 , 7)\n",
        "        x = F.relu(self.tconv1(x))\n",
        "        x = self.bn3(x)\n",
        "        x = self.tanh(self.tconv2(x))\n",
        "        return x.view(BATCH_SIZE , -1)        "
      ],
      "execution_count": 10,
      "outputs": []
    },
    {
      "cell_type": "code",
      "metadata": {
        "id": "ZwZeM5rybkMD",
        "colab_type": "code",
        "colab": {}
      },
      "source": [
        "G = Generator().type(dtype)\n",
        "D = Discriminator().type(dtype)\n",
        "G.apply(init_weights)\n",
        "D.apply(init_weights)\n",
        "G_optim = optim.Adam(G.parameters() , lr=1e-3)\n",
        "D_optim = optim.Adam(D.parameters() , lr=1e-3)"
      ],
      "execution_count": 11,
      "outputs": []
    },
    {
      "cell_type": "code",
      "metadata": {
        "id": "cGAqkNnBbkMK",
        "colab_type": "code",
        "colab": {
          "base_uri": "https://localhost:8080/",
          "height": 35
        },
        "outputId": "7369033c-8207-499b-8d0f-98fe2d7e0849"
      },
      "source": [
        "M = G #D\n",
        "t = 0\n",
        "for p in M.parameters():\n",
        "    t += np.prod(p.size())\n",
        "t"
      ],
      "execution_count": 12,
      "outputs": [
        {
          "output_type": "execute_result",
          "data": {
            "text/plain": [
              "6675009"
            ]
          },
          "metadata": {
            "tags": []
          },
          "execution_count": 12
        }
      ]
    },
    {
      "cell_type": "code",
      "metadata": {
        "id": "MybL2aPEbkMQ",
        "colab_type": "code",
        "colab": {}
      },
      "source": [
        "def tran_GAN(D , G , D_optim , G_optim , D_loss , G_loss , show_every = 250 , n_epoch = 10):\n",
        "    \n",
        "    iter_cnt = 0\n",
        "    for epoch in range(n_epoch):\n",
        "        for X,_ in loader_train:\n",
        "            if len(X) != BATCH_SIZE:\n",
        "                continue\n",
        "            D_optim.zero_grad()\n",
        "            real_data = X.type(dtype)\n",
        "            logits_real = D(2*(real_data - 0.5)).type(dtype)\n",
        "            \n",
        "            g_fake_seed = sampler_noise(BATCH_SIZE , NOISE_DIM).type(dtype)\n",
        "            fake_imgs = G(g_fake_seed).detach()\n",
        "            logits_fake = D(fake_imgs.view(BATCH_SIZE , 1 , 28 , 28))\n",
        "            \n",
        "            D_err = D_loss(logits_real , logits_fake)\n",
        "            D_err.backward()\n",
        "            D_optim.step()\n",
        "            \n",
        "            G_optim.zero_grad()\n",
        "            g_fake_seed = sampler_noise(BATCH_SIZE, NOISE_DIM).type(dtype)\n",
        "            fake_images = G(g_fake_seed)\n",
        "            \n",
        "            gen_logits_fake = D(fake_images.view(BATCH_SIZE , 1 , 28 , 28))\n",
        "            G_err = G_loss(gen_logits_fake)\n",
        "            G_err.backward()\n",
        "            G_optim.step()\n",
        "                \n",
        "            if iter_cnt % show_every == 0:\n",
        "                print('Iter: {}, D: {:.4}, G:{:.4}'.format(iter_cnt,D_err.item(),G_err.item()))\n",
        "                imgs = fake_images.data.cpu()\n",
        "                imgs = imgs.view(BATCH_SIZE , 1 , 28 , 28)\n",
        "                show_imgs(imgs[0:16])\n",
        "                print()\n",
        "            iter_cnt += 1"
      ],
      "execution_count": 13,
      "outputs": []
    },
    {
      "cell_type": "code",
      "metadata": {
        "id": "ZPqJold3bkMX",
        "colab_type": "code",
        "colab": {
          "base_uri": "https://localhost:8080/",
          "height": 1000
        },
        "outputId": "02433109-f3c8-409f-dfad-a5ab0250e5a0"
      },
      "source": [
        "tran_GAN(D , G , D_optim , G_optim , discriminator_loss , generator_loss , show_every = 250 , n_epoch = 10)"
      ],
      "execution_count": 14,
      "outputs": [
        {
          "output_type": "stream",
          "text": [
            "Clipping input data to the valid range for imshow with RGB data ([0..1] for floats or [0..255] for integers).\n"
          ],
          "name": "stderr"
        },
        {
          "output_type": "stream",
          "text": [
            "Iter: 0, D: 1.404, G:0.7956\n"
          ],
          "name": "stdout"
        },
        {
          "output_type": "display_data",
          "data": {
            "image/png": "[encoded data removed]",
            "text/plain": [
              "<Figure size 288x288 with 1 Axes>"
            ]
          },
          "metadata": {
            "tags": [],
            "needs_background": "light"
          }
        },
        {
          "output_type": "stream",
          "text": [
            "\n"
          ],
          "name": "stdout"
        },
        {
          "output_type": "stream",
          "text": [
            "Clipping input data to the valid range for imshow with RGB data ([0..1] for floats or [0..255] for integers).\n"
          ],
          "name": "stderr"
        },
        {
          "output_type": "stream",
          "text": [
            "Iter: 250, D: 0.6219, G:2.965\n"
          ],
          "name": "stdout"
        },
        {
          "output_type": "display_data",
          "data": {
            "image/png": "[encoded data removed]",
            "text/plain": [
              "<Figure size 288x288 with 1 Axes>"
            ]
          },
          "metadata": {
            "tags": [],
            "needs_background": "light"
          }
        },
        {
          "output_type": "stream",
          "text": [
            "\n"
          ],
          "name": "stdout"
        },
        {
          "output_type": "stream",
          "text": [
            "Clipping input data to the valid range for imshow with RGB data ([0..1] for floats or [0..255] for integers).\n"
          ],
          "name": "stderr"
        },
        {
          "output_type": "stream",
          "text": [
            "Iter: 500, D: 0.6792, G:2.795\n"
          ],
          "name": "stdout"
        },
        {
          "output_type": "display_data",
          "data": {
            "image/png": "[encoded data removed]",
            "text/plain": [
              "<Figure size 288x288 with 1 Axes>"
            ]
          },
          "metadata": {
            "tags": [],
            "needs_background": "light"
          }
        },
        {
          "output_type": "stream",
          "text": [
            "\n"
          ],
          "name": "stdout"
        },
        {
          "output_type": "stream",
          "text": [
            "Clipping input data to the valid range for imshow with RGB data ([0..1] for floats or [0..255] for integers).\n"
          ],
          "name": "stderr"
        },
        {
          "output_type": "stream",
          "text": [
            "Iter: 750, D: 0.6018, G:2.33\n"
          ],
          "name": "stdout"
        },
        {
          "output_type": "display_data",
          "data": {
            "image/png": "[encoded data removed]",
            "text/plain": [
              "<Figure size 288x288 with 1 Axes>"
            ]
          },
          "metadata": {
            "tags": [],
            "needs_background": "light"
          }
        },
        {
          "output_type": "stream",
          "text": [
            "\n"
          ],
          "name": "stdout"
        },
        {
          "output_type": "stream",
          "text": [
            "Clipping input data to the valid range for imshow with RGB data ([0..1] for floats or [0..255] for integers).\n"
          ],
          "name": "stderr"
        },
        {
          "output_type": "stream",
          "text": [
            "Iter: 1000, D: 0.8943, G:1.489\n"
          ],
          "name": "stdout"
        },
        {
          "output_type": "display_data",
          "data": {
            "image/png": "[encoded data removed]",
            "text/plain": [
              "<Figure size 288x288 with 1 Axes>"
            ]
          },
          "metadata": {
            "tags": [],
            "needs_background": "light"
          }
        },
        {
          "output_type": "stream",
          "text": [
            "\n"
          ],
          "name": "stdout"
        },
        {
          "output_type": "stream",
          "text": [
            "Clipping input data to the valid range for imshow with RGB data ([0..1] for floats or [0..255] for integers).\n"
          ],
          "name": "stderr"
        },
        {
          "output_type": "stream",
          "text": [
            "Iter: 1250, D: 0.8908, G:1.774\n"
          ],
          "name": "stdout"
        },
        {
          "output_type": "display_data",
          "data": {
            "image/png": "[encoded data removed]",
            "text/plain": [
              "<Figure size 288x288 with 1 Axes>"
            ]
          },
          "metadata": {
            "tags": [],
            "needs_background": "light"
          }
        },
        {
          "output_type": "stream",
          "text": [
            "\n"
          ],
          "name": "stdout"
        },
        {
          "output_type": "stream",
          "text": [
            "Clipping input data to the valid range for imshow with RGB data ([0..1] for floats or [0..255] for integers).\n"
          ],
          "name": "stderr"
        },
        {
          "output_type": "stream",
          "text": [
            "Iter: 1500, D: 1.084, G:0.972\n"
          ],
          "name": "stdout"
        },
        {
          "output_type": "display_data",
          "data": {
            "image/png": "[encoded data removed]",
            "text/plain": [
              "<Figure size 288x288 with 1 Axes>"
            ]
          },
          "metadata": {
            "tags": [],
            "needs_background": "light"
          }
        },
        {
          "output_type": "stream",
          "text": [
            "\n"
          ],
          "name": "stdout"
        },
        {
          "output_type": "stream",
          "text": [
            "Clipping input data to the valid range for imshow with RGB data ([0..1] for floats or [0..255] for integers).\n"
          ],
          "name": "stderr"
        },
        {
          "output_type": "stream",
          "text": [
            "Iter: 1750, D: 0.9766, G:1.568\n"
          ],
          "name": "stdout"
        },
        {
          "output_type": "display_data",
          "data": {
            "image/png": "[encoded data removed]",
            "text/plain": [
              "<Figure size 288x288 with 1 Axes>"
            ]
          },
          "metadata": {
            "tags": [],
            "needs_background": "light"
          }
        },
        {
          "output_type": "stream",
          "text": [
            "\n"
          ],
          "name": "stdout"
        },
        {
          "output_type": "stream",
          "text": [
            "Clipping input data to the valid range for imshow with RGB data ([0..1] for floats or [0..255] for integers).\n"
          ],
          "name": "stderr"
        },
        {
          "output_type": "stream",
          "text": [
            "Iter: 2000, D: 0.9217, G:1.322\n"
          ],
          "name": "stdout"
        },
        {
          "output_type": "display_data",
          "data": {
            "image/png": "[encoded data removed]",
            "text/plain": [
              "<Figure size 288x288 with 1 Axes>"
            ]
          },
          "metadata": {
            "tags": [],
            "needs_background": "light"
          }
        },
        {
          "output_type": "stream",
          "text": [
            "\n"
          ],
          "name": "stdout"
        },
        {
          "output_type": "stream",
          "text": [
            "Clipping input data to the valid range for imshow with RGB data ([0..1] for floats or [0..255] for integers).\n"
          ],
          "name": "stderr"
        },
        {
          "output_type": "stream",
          "text": [
            "Iter: 2250, D: 1.036, G:1.214\n"
          ],
          "name": "stdout"
        },
        {
          "output_type": "display_data",
          "data": {
            "image/png": "[encoded data removed]",
            "text/plain": [
              "<Figure size 288x288 with 1 Axes>"
            ]
          },
          "metadata": {
            "tags": [],
            "needs_background": "light"
          }
        },
        {
          "output_type": "stream",
          "text": [
            "\n"
          ],
          "name": "stdout"
        },
        {
          "output_type": "stream",
          "text": [
            "Clipping input data to the valid range for imshow with RGB data ([0..1] for floats or [0..255] for integers).\n"
          ],
          "name": "stderr"
        },
        {
          "output_type": "stream",
          "text": [
            "Iter: 2500, D: 1.036, G:1.176\n"
          ],
          "name": "stdout"
        },
        {
          "output_type": "display_data",
          "data": {
            "image/png": "[encoded data removed]",
            "text/plain": [
              "<Figure size 288x288 with 1 Axes>"
            ]
          },
          "metadata": {
            "tags": [],
            "needs_background": "light"
          }
        },
        {
          "output_type": "stream",
          "text": [
            "\n"
          ],
          "name": "stdout"
        },
        {
          "output_type": "stream",
          "text": [
            "Clipping input data to the valid range for imshow with RGB data ([0..1] for floats or [0..255] for integers).\n"
          ],
          "name": "stderr"
        },
        {
          "output_type": "stream",
          "text": [
            "Iter: 2750, D: 0.9311, G:1.243\n"
          ],
          "name": "stdout"
        },
        {
          "output_type": "display_data",
          "data": {
            "image/png": "[encoded data removed]",
            "text/plain": [
              "<Figure size 288x288 with 1 Axes>"
            ]
          },
          "metadata": {
            "tags": [],
            "needs_background": "light"
          }
        },
        {
          "output_type": "stream",
          "text": [
            "\n"
          ],
          "name": "stdout"
        },
        {
          "output_type": "stream",
          "text": [
            "Clipping input data to the valid range for imshow with RGB data ([0..1] for floats or [0..255] for integers).\n"
          ],
          "name": "stderr"
        },
        {
          "output_type": "stream",
          "text": [
            "Iter: 3000, D: 1.1, G:1.353\n"
          ],
          "name": "stdout"
        },
        {
          "output_type": "display_data",
          "data": {
            "image/png": "[encoded data removed]",
            "text/plain": [
              "<Figure size 288x288 with 1 Axes>"
            ]
          },
          "metadata": {
            "tags": [],
            "needs_background": "light"
          }
        },
        {
          "output_type": "stream",
          "text": [
            "\n"
          ],
          "name": "stdout"
        },
        {
          "output_type": "stream",
          "text": [
            "Clipping input data to the valid range for imshow with RGB data ([0..1] for floats or [0..255] for integers).\n"
          ],
          "name": "stderr"
        },
        {
          "output_type": "stream",
          "text": [
            "Iter: 3250, D: 1.036, G:1.124\n"
          ],
          "name": "stdout"
        },
        {
          "output_type": "display_data",
          "data": {
            "image/png": "[encoded data removed]",
            "text/plain": [
              "<Figure size 288x288 with 1 Axes>"
            ]
          },
          "metadata": {
            "tags": [],
            "needs_background": "light"
          }
        },
        {
          "output_type": "stream",
          "text": [
            "\n"
          ],
          "name": "stdout"
        },
        {
          "output_type": "stream",
          "text": [
            "Clipping input data to the valid range for imshow with RGB data ([0..1] for floats or [0..255] for integers).\n"
          ],
          "name": "stderr"
        },
        {
          "output_type": "stream",
          "text": [
            "Iter: 3500, D: 1.075, G:1.167\n"
          ],
          "name": "stdout"
        },
        {
          "output_type": "display_data",
          "data": {
            "image/png": "[encoded data removed]",
            "text/plain": [
              "<Figure size 288x288 with 1 Axes>"
            ]
          },
          "metadata": {
            "tags": [],
            "needs_background": "light"
          }
        },
        {
          "output_type": "stream",
          "text": [
            "\n"
          ],
          "name": "stdout"
        },
        {
          "output_type": "stream",
          "text": [
            "Clipping input data to the valid range for imshow with RGB data ([0..1] for floats or [0..255] for integers).\n"
          ],
          "name": "stderr"
        },
        {
          "output_type": "stream",
          "text": [
            "Iter: 3750, D: 0.8196, G:1.494\n"
          ],
          "name": "stdout"
        },
        {
          "output_type": "display_data",
          "data": {
            "image/png": "[encoded data removed]",
            "text/plain": [
              "<Figure size 288x288 with 1 Axes>"
            ]
          },
          "metadata": {
            "tags": [],
            "needs_background": "light"
          }
        },
        {
          "output_type": "stream",
          "text": [
            "\n"
          ],
          "name": "stdout"
        }
      ]
    },
    {
      "cell_type": "code",
      "metadata": {
        "id": "91NYfiO4bkMd",
        "colab_type": "code",
        "colab": {}
      },
      "source": [
        "torch.save(G.state_dict(), \"G_weights_mnist.pt\")\n",
        "torch.save(D.state_dict(), \"D_weights_mnist.pt\")"
      ],
      "execution_count": 16,
      "outputs": []
    },
    {
      "cell_type": "code",
      "metadata": {
        "id": "1KC3vkYhcjLp",
        "colab_type": "code",
        "colab": {}
      },
      "source": [
        ""
      ],
      "execution_count": null,
      "outputs": []
    }
  ]
}